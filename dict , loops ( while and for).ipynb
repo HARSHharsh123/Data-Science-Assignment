{
 "cells": [
  {
   "cell_type": "code",
   "execution_count": 2,
   "id": "d21c46ed",
   "metadata": {},
   "outputs": [],
   "source": [
    "dic = {}"
   ]
  },
  {
   "cell_type": "code",
   "execution_count": 3,
   "id": "28e6082b",
   "metadata": {},
   "outputs": [
    {
     "data": {
      "text/plain": [
       "dict"
      ]
     },
     "execution_count": 3,
     "metadata": {},
     "output_type": "execute_result"
    }
   ],
   "source": [
    "type(dic)"
   ]
  },
  {
   "cell_type": "code",
   "execution_count": 4,
   "id": "92cc1ed7",
   "metadata": {},
   "outputs": [],
   "source": [
    "dic = {\"key\":\"harsh\"}"
   ]
  },
  {
   "cell_type": "code",
   "execution_count": 5,
   "id": "6a6d2a20",
   "metadata": {},
   "outputs": [
    {
     "data": {
      "text/plain": [
       "{'key': 'harsh'}"
      ]
     },
     "execution_count": 5,
     "metadata": {},
     "output_type": "execute_result"
    }
   ],
   "source": [
    "dic"
   ]
  },
  {
   "cell_type": "code",
   "execution_count": 6,
   "id": "79b573e9",
   "metadata": {},
   "outputs": [],
   "source": [
    "dic = {'name':\"harsh\",'branch':\"ITIOT\",\"subject\":\"DS\"}"
   ]
  },
  {
   "cell_type": "code",
   "execution_count": 7,
   "id": "a09d92e2",
   "metadata": {},
   "outputs": [
    {
     "data": {
      "text/plain": [
       "{'name': 'harsh', 'branch': 'ITIOT', 'subject': 'DS'}"
      ]
     },
     "execution_count": 7,
     "metadata": {},
     "output_type": "execute_result"
    }
   ],
   "source": [
    "dic"
   ]
  },
  {
   "cell_type": "code",
   "execution_count": 8,
   "id": "a580a256",
   "metadata": {},
   "outputs": [],
   "source": [
    "dic1 = {123 : \"harsh\",True : 123}"
   ]
  },
  {
   "cell_type": "code",
   "execution_count": 9,
   "id": "4b79f0dc",
   "metadata": {},
   "outputs": [
    {
     "data": {
      "text/plain": [
       "{123: 'harsh', True: 123}"
      ]
     },
     "execution_count": 9,
     "metadata": {},
     "output_type": "execute_result"
    }
   ],
   "source": [
    "dic1"
   ]
  },
  {
   "cell_type": "code",
   "execution_count": 10,
   "id": "2eb56f10",
   "metadata": {},
   "outputs": [
    {
     "data": {
      "text/plain": [
       "'harsh'"
      ]
     },
     "execution_count": 10,
     "metadata": {},
     "output_type": "execute_result"
    }
   ],
   "source": [
    "dic1[123]"
   ]
  },
  {
   "cell_type": "code",
   "execution_count": 11,
   "id": "08a2a8d3",
   "metadata": {},
   "outputs": [
    {
     "data": {
      "text/plain": [
       "123"
      ]
     },
     "execution_count": 11,
     "metadata": {},
     "output_type": "execute_result"
    }
   ],
   "source": [
    "dic1[True]"
   ]
  },
  {
   "cell_type": "code",
   "execution_count": 12,
   "id": "8b9ae7d0",
   "metadata": {},
   "outputs": [
    {
     "data": {
      "text/plain": [
       "123"
      ]
     },
     "execution_count": 12,
     "metadata": {},
     "output_type": "execute_result"
    }
   ],
   "source": [
    "dic1[1]"
   ]
  },
  {
   "cell_type": "code",
   "execution_count": 13,
   "id": "bebe8fd1",
   "metadata": {},
   "outputs": [],
   "source": [
    "dic2 = {\"name\": \"Harsh Shukla\",\"branch\":\"ITIOT\",\"Subject\":[\"hindi\",\"english\",\"CAM\",\"IOT\"],\"name\":\"Akanchha Maam\"}"
   ]
  },
  {
   "cell_type": "code",
   "execution_count": 16,
   "id": "62cbd14f",
   "metadata": {
    "scrolled": true
   },
   "outputs": [
    {
     "data": {
      "text/plain": [
       "'Akanchha Maam'"
      ]
     },
     "execution_count": 16,
     "metadata": {},
     "output_type": "execute_result"
    }
   ],
   "source": [
    "dic2[\"name\"]"
   ]
  },
  {
   "cell_type": "code",
   "execution_count": 18,
   "id": "4970d6ce",
   "metadata": {},
   "outputs": [
    {
     "data": {
      "text/plain": [
       "'english'"
      ]
     },
     "execution_count": 18,
     "metadata": {},
     "output_type": "execute_result"
    }
   ],
   "source": [
    "dic2[\"Subject\"][1]"
   ]
  },
  {
   "cell_type": "code",
   "execution_count": 25,
   "id": "41fdb912",
   "metadata": {},
   "outputs": [],
   "source": [
    "dic3 = {\"name\":[\"harsh\",\"shukla\",\"ji\"],\"branch\":(\"ITIOT\",\"CSE\",\"IT+CSE\"),\"Subject no\":{101,102,103},\"teacherName\":{\"ITIOT\":\"Kritika\",\"CSE\":\"dubey\",\"IT+CSE\":\"pawan\"}}"
   ]
  },
  {
   "cell_type": "code",
   "execution_count": 26,
   "id": "5e4539b4",
   "metadata": {
    "scrolled": true
   },
   "outputs": [
    {
     "data": {
      "text/plain": [
       "{'name': ['harsh', 'shukla', 'ji'],\n",
       " 'branch': ('ITIOT', 'CSE', 'IT+CSE'),\n",
       " 'Subject no': {101, 102, 103},\n",
       " 'teacherName': {'ITIOT': 'Kritika', 'CSE': 'dubey', 'IT+CSE': 'pawan'}}"
      ]
     },
     "execution_count": 26,
     "metadata": {},
     "output_type": "execute_result"
    }
   ],
   "source": [
    "dic3"
   ]
  },
  {
   "cell_type": "code",
   "execution_count": 27,
   "id": "1f7cda8c",
   "metadata": {},
   "outputs": [],
   "source": [
    "#if i want to access pawan"
   ]
  },
  {
   "cell_type": "code",
   "execution_count": 29,
   "id": "f6993163",
   "metadata": {},
   "outputs": [
    {
     "data": {
      "text/plain": [
       "'pawan'"
      ]
     },
     "execution_count": 29,
     "metadata": {},
     "output_type": "execute_result"
    }
   ],
   "source": [
    "dic3[\"teacherName\"][\"IT+CSE\"]"
   ]
  },
  {
   "cell_type": "code",
   "execution_count": 30,
   "id": "9d6a8fbd",
   "metadata": {},
   "outputs": [],
   "source": [
    "#if i want to add key "
   ]
  },
  {
   "cell_type": "code",
   "execution_count": 31,
   "id": "31f94637",
   "metadata": {},
   "outputs": [],
   "source": [
    "dic3[\"Makrs\"] = [19,20,18]"
   ]
  },
  {
   "cell_type": "code",
   "execution_count": 32,
   "id": "226f0efb",
   "metadata": {},
   "outputs": [
    {
     "data": {
      "text/plain": [
       "{'name': ['harsh', 'shukla', 'ji'],\n",
       " 'branch': ('ITIOT', 'CSE', 'IT+CSE'),\n",
       " 'Subject no': {101, 102, 103},\n",
       " 'teacherName': {'ITIOT': 'Kritika', 'CSE': 'dubey', 'IT+CSE': 'pawan'},\n",
       " 'Makrs': [19, 20, 18]}"
      ]
     },
     "execution_count": 32,
     "metadata": {},
     "output_type": "execute_result"
    }
   ],
   "source": [
    "dic3"
   ]
  },
  {
   "cell_type": "code",
   "execution_count": 33,
   "id": "7beb8de2",
   "metadata": {},
   "outputs": [],
   "source": [
    "#agr mujhe koi key delete karni hai toh i will use del statement"
   ]
  },
  {
   "cell_type": "code",
   "execution_count": 34,
   "id": "be568b4c",
   "metadata": {},
   "outputs": [],
   "source": [
    "del dic3[\"name\"]"
   ]
  },
  {
   "cell_type": "code",
   "execution_count": 36,
   "id": "f56b6f32",
   "metadata": {},
   "outputs": [
    {
     "data": {
      "text/plain": [
       "{'branch': ('ITIOT', 'CSE', 'IT+CSE'),\n",
       " 'Subject no': {101, 102, 103},\n",
       " 'teacherName': {'ITIOT': 'Kritika', 'CSE': 'dubey', 'IT+CSE': 'pawan'},\n",
       " 'Makrs': [19, 20, 18]}"
      ]
     },
     "execution_count": 36,
     "metadata": {},
     "output_type": "execute_result"
    }
   ],
   "source": [
    "dic3"
   ]
  },
  {
   "cell_type": "code",
   "execution_count": 37,
   "id": "560acae0",
   "metadata": {},
   "outputs": [
    {
     "data": {
      "text/plain": [
       "dict_keys(['branch', 'Subject no', 'teacherName', 'Makrs'])"
      ]
     },
     "execution_count": 37,
     "metadata": {},
     "output_type": "execute_result"
    }
   ],
   "source": [
    "dic3.keys()"
   ]
  },
  {
   "cell_type": "code",
   "execution_count": 39,
   "id": "0ec61db5",
   "metadata": {},
   "outputs": [
    {
     "data": {
      "text/plain": [
       "['branch', 'Subject no', 'teacherName', 'Makrs']"
      ]
     },
     "execution_count": 39,
     "metadata": {},
     "output_type": "execute_result"
    }
   ],
   "source": [
    "list(dic3)"
   ]
  },
  {
   "cell_type": "code",
   "execution_count": 40,
   "id": "006d35a4",
   "metadata": {},
   "outputs": [
    {
     "data": {
      "text/plain": [
       "dict_values([('ITIOT', 'CSE', 'IT+CSE'), {101, 102, 103}, {'ITIOT': 'Kritika', 'CSE': 'dubey', 'IT+CSE': 'pawan'}, [19, 20, 18]])"
      ]
     },
     "execution_count": 40,
     "metadata": {},
     "output_type": "execute_result"
    }
   ],
   "source": [
    "dic3.values()"
   ]
  },
  {
   "cell_type": "code",
   "execution_count": 41,
   "id": "0e01258a",
   "metadata": {},
   "outputs": [
    {
     "data": {
      "text/plain": [
       "dict_items([('branch', ('ITIOT', 'CSE', 'IT+CSE')), ('Subject no', {101, 102, 103}), ('teacherName', {'ITIOT': 'Kritika', 'CSE': 'dubey', 'IT+CSE': 'pawan'}), ('Makrs', [19, 20, 18])])"
      ]
     },
     "execution_count": 41,
     "metadata": {},
     "output_type": "execute_result"
    }
   ],
   "source": [
    "dic3.items()"
   ]
  },
  {
   "cell_type": "code",
   "execution_count": 42,
   "id": "1a101bc9",
   "metadata": {},
   "outputs": [
    {
     "data": {
      "text/plain": [
       "{'ITIOT': 'Kritika', 'CSE': 'dubey', 'IT+CSE': 'pawan'}"
      ]
     },
     "execution_count": 42,
     "metadata": {},
     "output_type": "execute_result"
    }
   ],
   "source": [
    "dic3.pop(\"teacherName\")"
   ]
  },
  {
   "cell_type": "code",
   "execution_count": 43,
   "id": "4deb7a41",
   "metadata": {},
   "outputs": [
    {
     "ename": "TypeError",
     "evalue": "pop expected at least 1 argument, got 0",
     "output_type": "error",
     "traceback": [
      "\u001b[1;31m---------------------------------------------------------------------------\u001b[0m",
      "\u001b[1;31mTypeError\u001b[0m                                 Traceback (most recent call last)",
      "\u001b[1;32m~\\AppData\\Local\\Temp\\ipykernel_18184\\3358009603.py\u001b[0m in \u001b[0;36m<module>\u001b[1;34m\u001b[0m\n\u001b[1;32m----> 1\u001b[1;33m \u001b[0mdic3\u001b[0m\u001b[1;33m.\u001b[0m\u001b[0mpop\u001b[0m\u001b[1;33m(\u001b[0m\u001b[1;33m)\u001b[0m\u001b[1;33m\u001b[0m\u001b[1;33m\u001b[0m\u001b[0m\n\u001b[0m",
      "\u001b[1;31mTypeError\u001b[0m: pop expected at least 1 argument, got 0"
     ]
    }
   ],
   "source": [
    "dic3.pop()"
   ]
  },
  {
   "cell_type": "code",
   "execution_count": 1,
   "id": "6cf3bb6b",
   "metadata": {},
   "outputs": [],
   "source": [
    "#if , if elif construct , if else and nested if we are familar with these all concepts"
   ]
  },
  {
   "cell_type": "code",
   "execution_count": 2,
   "id": "45ed7542",
   "metadata": {},
   "outputs": [],
   "source": [
    "#concepts of for loop"
   ]
  },
  {
   "cell_type": "code",
   "execution_count": 19,
   "id": "573b784a",
   "metadata": {},
   "outputs": [],
   "source": [
    "lst = [1,2,3,4,5,6]\n",
    "l =[]"
   ]
  },
  {
   "cell_type": "code",
   "execution_count": 20,
   "id": "ae7fc1ad",
   "metadata": {},
   "outputs": [],
   "source": [
    "l.append(lst[0]+1)"
   ]
  },
  {
   "cell_type": "code",
   "execution_count": 21,
   "id": "ca15a956",
   "metadata": {},
   "outputs": [
    {
     "name": "stdout",
     "output_type": "stream",
     "text": [
      "[2]\n"
     ]
    }
   ],
   "source": [
    "print(l)"
   ]
  },
  {
   "cell_type": "code",
   "execution_count": 22,
   "id": "98709cd6",
   "metadata": {},
   "outputs": [],
   "source": [
    "#through loop "
   ]
  },
  {
   "cell_type": "code",
   "execution_count": 24,
   "id": "719ea764",
   "metadata": {
    "scrolled": true
   },
   "outputs": [
    {
     "name": "stdout",
     "output_type": "stream",
     "text": [
      "1\n",
      "2\n",
      "3\n",
      "4\n",
      "5\n",
      "6\n"
     ]
    }
   ],
   "source": [
    "for i in lst:\n",
    "    print(i)"
   ]
  },
  {
   "cell_type": "code",
   "execution_count": 25,
   "id": "efec3114",
   "metadata": {},
   "outputs": [],
   "source": [
    "l=[]\n",
    "for i in lst:\n",
    "    l.append(i+1)"
   ]
  },
  {
   "cell_type": "code",
   "execution_count": 26,
   "id": "427ebd89",
   "metadata": {},
   "outputs": [
    {
     "data": {
      "text/plain": [
       "[2, 3, 4, 5, 6, 7]"
      ]
     },
     "execution_count": 26,
     "metadata": {},
     "output_type": "execute_result"
    }
   ],
   "source": [
    "l"
   ]
  },
  {
   "cell_type": "code",
   "execution_count": 33,
   "id": "3c1c88bf",
   "metadata": {},
   "outputs": [],
   "source": [
    "l1 = [\"sudh\",\"kumar\",\"pwskills\",\"course\"]\n",
    "l2 = []\n",
    "for i in l1:\n",
    "    l2.append(i.upper())"
   ]
  },
  {
   "cell_type": "code",
   "execution_count": 34,
   "id": "de8efa71",
   "metadata": {},
   "outputs": [
    {
     "data": {
      "text/plain": [
       "['SUDH', 'KUMAR', 'PWSKILLS', 'COURSE']"
      ]
     },
     "execution_count": 34,
     "metadata": {},
     "output_type": "execute_result"
    }
   ],
   "source": [
    "l2"
   ]
  },
  {
   "cell_type": "code",
   "execution_count": 78,
   "id": "e89eb310",
   "metadata": {},
   "outputs": [],
   "source": [
    "l4 = []\n",
    "l5 = []\n",
    "l1 = [1,2,3,4,4,\"sudh\",\"kumar\",324,34.456,\"abc\"]"
   ]
  },
  {
   "cell_type": "code",
   "execution_count": 79,
   "id": "87d7461a",
   "metadata": {},
   "outputs": [],
   "source": [
    "for i in l1:\n",
    "    d = str(i)\n",
    "    if(d.isalpha()):\n",
    "        l4.append(d)\n",
    "    else:\n",
    "        l5.append(d)\n",
    "\n",
    "    "
   ]
  },
  {
   "cell_type": "code",
   "execution_count": 80,
   "id": "52b37b4c",
   "metadata": {},
   "outputs": [
    {
     "data": {
      "text/plain": [
       "['sudh', 'kumar', 'abc']"
      ]
     },
     "execution_count": 80,
     "metadata": {},
     "output_type": "execute_result"
    }
   ],
   "source": [
    "l4"
   ]
  },
  {
   "cell_type": "code",
   "execution_count": 81,
   "id": "2c54c337",
   "metadata": {},
   "outputs": [
    {
     "data": {
      "text/plain": [
       "['1', '2', '3', '4', '4', '324', '34.456']"
      ]
     },
     "execution_count": 81,
     "metadata": {},
     "output_type": "execute_result"
    }
   ],
   "source": [
    "l5"
   ]
  },
  {
   "cell_type": "code",
   "execution_count": 82,
   "id": "7432d1ec",
   "metadata": {},
   "outputs": [],
   "source": [
    "#another method....\n",
    "l_1 = []\n",
    "l_2 = []\n",
    "for i in l1:\n",
    "    if type(i) == str:\n",
    "        l_1.append(i)\n",
    "    else:\n",
    "        l_2.append(i)\n",
    "        \n"
   ]
  },
  {
   "cell_type": "code",
   "execution_count": 84,
   "id": "2dfe0ac2",
   "metadata": {},
   "outputs": [
    {
     "data": {
      "text/plain": [
       "['sudh', 'kumar', 'abc']"
      ]
     },
     "execution_count": 84,
     "metadata": {},
     "output_type": "execute_result"
    }
   ],
   "source": [
    "l_1"
   ]
  },
  {
   "cell_type": "code",
   "execution_count": 85,
   "id": "39775ecf",
   "metadata": {},
   "outputs": [
    {
     "data": {
      "text/plain": [
       "[1, 2, 3, 4, 4, 324, 34.456]"
      ]
     },
     "execution_count": 85,
     "metadata": {},
     "output_type": "execute_result"
    }
   ],
   "source": [
    "l_2"
   ]
  },
  {
   "cell_type": "code",
   "execution_count": null,
   "id": "1ecd849a",
   "metadata": {},
   "outputs": [],
   "source": []
  }
 ],
 "metadata": {
  "kernelspec": {
   "display_name": "Python 3 (ipykernel)",
   "language": "python",
   "name": "python3"
  },
  "language_info": {
   "codemirror_mode": {
    "name": "ipython",
    "version": 3
   },
   "file_extension": ".py",
   "mimetype": "text/x-python",
   "name": "python",
   "nbconvert_exporter": "python",
   "pygments_lexer": "ipython3",
   "version": "3.9.13"
  }
 },
 "nbformat": 4,
 "nbformat_minor": 5
}
